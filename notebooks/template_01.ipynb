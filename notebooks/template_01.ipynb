{
  "cells": [
    {
      "cell_type": "code",
      "execution_count": 2,
      "metadata": {
        "id": "qHKV2hR7n71U"
      },
      "outputs": [],
      "source": [
        "# libs\n",
        "!pip install bitarray &> /dev/null\n",
        "!pip install xxhash &> /dev/null\n",
        "!pip install nltk &> /dev/null"
      ]
    },
    {
      "cell_type": "code",
      "execution_count": 4,
      "metadata": {
        "id": "GvnCLO7Bn71Y"
      },
      "outputs": [],
      "source": [
        "!git clone https://github.com/thiagonobrega/ml_ds_util.git &> /dev/null"
      ]
    },
    {
      "cell_type": "code",
      "execution_count": 5,
      "metadata": {
        "id": "6phJ1AZ0n71a"
      },
      "outputs": [],
      "source": [
        "import os\n",
        "import sys\n",
        "\n",
        "import numpy as np\n",
        "import pandas as pd\n",
        "\n",
        "sys.path.insert(0, os.path.abspath('./ml_ds_util'))\n",
        "from ds_util import extract_sample\n",
        "from ds_util.anonymize import anonymize_dataset, rank_dataset , extract_sample_from_anonymized , fill_all_posbf , get_max_length_posbf"
      ]
    },
    {
      "cell_type": "markdown",
      "metadata": {
        "id": "Xoyo5-Ykn71d"
      },
      "source": [
        "# 1. reading the raw data"
      ]
    },
    {
      "cell_type": "code",
      "execution_count": null,
      "metadata": {
        "id": "gOnA63kZn71g"
      },
      "outputs": [],
      "source": [
        "url = 'https://github.com/thiagonobrega/bcpprl-simplified/raw/master/dataset/ncvoter-20140619-temporal-balanced-ratio-1to1-a.csv.gz'\n",
        "df1 = pd.read_csv(url,\n",
        "                  compression='gzip',encoding= 'unicode_escape',\n",
        "                  error_bad_lines=False)\n",
        "\n",
        "url = 'https://github.com/thiagonobrega/bcpprl-simplified/blob/master/dataset/ncvoter-20140619-temporal-balanced-ratio-1to1-b.csv.gz'\n",
        "df2 = pd.read_csv(url,\n",
        "                  compression='gzip',encoding= 'unicode_escape',\n",
        "                  error_bad_lines=False)"
      ]
    },
    {
      "cell_type": "markdown",
      "metadata": {
        "id": "uwzneGBcn71i"
      },
      "source": [
        "Extract sample from the raw dataset"
      ]
    },
    {
      "cell_type": "code",
      "execution_count": null,
      "metadata": {
        "id": "VdaypoGHn71j"
      },
      "outputs": [],
      "source": [
        "atts_list=['voter_id','first_name','last_name','gender','street_address']\n",
        "dfa,dfb,mean_ngram,max_ngram,raw_dfa,raw_dfb = extract_sample(df1,200,duplicate_rate=.1,return_raw_sample=True,atts=atts_list)\n",
        "mean_ngram,max_ngram"
      ]
    },
    {
      "cell_type": "markdown",
      "metadata": {
        "id": "fELFr2pJn71k"
      },
      "source": [
        "anonymizing the data"
      ]
    },
    {
      "cell_type": "code",
      "execution_count": null,
      "metadata": {
        "id": "ykUov2M4n71l"
      },
      "outputs": [],
      "source": [
        "l=200\n",
        "k=4\n",
        "# anon_bin_df_a = anonymize_dataset(dfa,l,k)\n",
        "# anon_bin_df_b = anonymize_dataset(dfb,l,k)\n",
        "\n",
        "anon_pos_df_a = anonymize_dataset(dfa,l,k,bf_representation='pos1')\n",
        "anon_pos_df_b = anonymize_dataset(dfb,l,k,bf_representation='pos1')"
      ]
    },
    {
      "cell_type": "markdown",
      "metadata": {
        "id": "vhnDjb1Ln71m"
      },
      "source": [
        "# Preparing training data to be used in training"
      ]
    },
    {
      "cell_type": "code",
      "execution_count": null,
      "metadata": {
        "id": "3bXiu3q7n71n"
      },
      "outputs": [],
      "source": [
        "rp = rank_dataset(anon_pos_df_a,anon_pos_df_b,bf_representation='pos1')"
      ]
    },
    {
      "cell_type": "code",
      "execution_count": null,
      "metadata": {
        "id": "D50U_s9hn71p"
      },
      "outputs": [],
      "source": [
        "# rs1=extract_sample_from_anonymized(rp,sample_method='random1')\n",
        "ms1=extract_sample_from_anonymized(rp,sample_method='maxq13',num_of_negative_example_per_sample=5)"
      ]
    },
    {
      "cell_type": "code",
      "execution_count": null,
      "metadata": {
        "id": "vFDoeUWrn71s"
      },
      "outputs": [],
      "source": [
        "# anon_pos_df_a (melhora o desempenho)\n",
        "len_max_pos_bf = np.max([\n",
        "    get_max_length_posbf(np.asarray(rp.bf1)),\n",
        "    get_max_length_posbf(np.asarray(rp.bf2)),\n",
        "    # usar treino e testes\n",
        "])"
      ]
    },
    {
      "cell_type": "code",
      "execution_count": null,
      "metadata": {
        "id": "jt-UafNLn71t"
      },
      "outputs": [],
      "source": [
        "x_, y_ = fill_all_posbf(ms1,len_max_pos_bf)"
      ]
    },
    {
      "cell_type": "markdown",
      "metadata": {
        "id": "g1WvTbH0n71u"
      },
      "source": [
        "# Training"
      ]
    },
    {
      "cell_type": "markdown",
      "metadata": {
        "id": "thf9NbZvn71v"
      },
      "source": [
        ""
      ]
    }
  ],
  "metadata": {
    "language_info": {
      "name": "python"
    },
    "orig_nbformat": 4,
    "colab": {
      "name": "template_01.ipynb",
      "provenance": []
    },
    "kernelspec": {
      "name": "python3",
      "display_name": "Python 3"
    }
  },
  "nbformat": 4,
  "nbformat_minor": 0
}