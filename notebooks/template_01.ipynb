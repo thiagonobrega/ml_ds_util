{
 "cells": [
  {
   "cell_type": "code",
   "execution_count": null,
   "metadata": {},
   "outputs": [],
   "source": [
    "# libs\n",
    "\n",
    "!pip install bitarray\n",
    "!pip install xxhash\n",
    "!pip install nltk"
   ]
  },
  {
   "cell_type": "code",
   "execution_count": null,
   "metadata": {},
   "outputs": [],
   "source": [
    "!git clone https://github.com/thiagonobrega/ml_ds_util.git"
   ]
  },
  {
   "cell_type": "code",
   "execution_count": null,
   "metadata": {},
   "outputs": [],
   "source": [
    "import os\n",
    "import sys\n",
    "\n",
    "import numpy as np\n",
    "import pandas as pd\n",
    "\n",
    "sys.path.insert(0, os.path.abspath('.'))\n",
    "from ds_util import extract_sample\n",
    "from ds_util.anonymize import anonymize_dataset, rank_dataset , extract_sample_from_anonymized , fill_all_posbf , get_max_length_posbf"
   ]
  },
  {
   "cell_type": "markdown",
   "metadata": {},
   "source": [
    "# 1. reading the raw data"
   ]
  },
  {
   "cell_type": "code",
   "execution_count": null,
   "metadata": {},
   "outputs": [],
   "source": [
    "url = 'https://github.com/thiagonobrega/bcpprl-simplified/raw/master/dataset/ncvoter-20140619-temporal-balanced-ratio-1to1-a.csv.gz'\n",
    "df1 = pd.read_csv(url,\n",
    "                  compression='gzip',encoding= 'unicode_escape',\n",
    "                  error_bad_lines=False)\n",
    "\n",
    "url = 'https://github.com/thiagonobrega/bcpprl-simplified/blob/master/dataset/ncvoter-20140619-temporal-balanced-ratio-1to1-b.csv.gz'\n",
    "df2 = pd.read_csv(url,\n",
    "                  compression='gzip',encoding= 'unicode_escape',\n",
    "                  error_bad_lines=False)"
   ]
  },
  {
   "cell_type": "markdown",
   "metadata": {},
   "source": [
    "Extract sample from the raw dataset"
   ]
  },
  {
   "cell_type": "code",
   "execution_count": null,
   "metadata": {},
   "outputs": [],
   "source": [
    "atts_list=['voter_id','first_name','last_name','gender','street_address']\n",
    "dfa,dfb,mean_ngram,max_ngram,raw_dfa,raw_dfb = extract_sample(df1,200,duplicate_rate=.1,return_raw_sample=True,atts=atts_list)\n",
    "mean_ngram,max_ngram"
   ]
  },
  {
   "cell_type": "markdown",
   "metadata": {},
   "source": [
    "anonymizing the data"
   ]
  },
  {
   "cell_type": "code",
   "execution_count": null,
   "metadata": {},
   "outputs": [],
   "source": [
    "l=200\n",
    "k=4\n",
    "# anon_bin_df_a = anonymize_dataset(dfa,l,k)\n",
    "# anon_bin_df_b = anonymize_dataset(dfb,l,k)\n",
    "\n",
    "anon_pos_df_a = anonymize_dataset(dfa,l,k,bf_representation='pos1')\n",
    "anon_pos_df_b = anonymize_dataset(dfb,l,k,bf_representation='pos1')"
   ]
  },
  {
   "cell_type": "markdown",
   "metadata": {},
   "source": [
    "# Preparing training data to be used in training"
   ]
  },
  {
   "cell_type": "code",
   "execution_count": null,
   "metadata": {},
   "outputs": [],
   "source": [
    "rp = rank_dataset(anon_pos_df_a,anon_pos_df_b,bf_representation='pos1')"
   ]
  },
  {
   "cell_type": "code",
   "execution_count": null,
   "metadata": {},
   "outputs": [],
   "source": [
    "# rs1=extract_sample_from_anonymized(rp,sample_method='random1')\n",
    "ms1=extract_sample_from_anonymized(rp,sample_method='maxq13',num_of_negative_example_per_sample=5)"
   ]
  },
  {
   "cell_type": "code",
   "execution_count": null,
   "metadata": {},
   "outputs": [],
   "source": [
    "# anon_pos_df_a (melhora o desempenho)\n",
    "len_max_pos_bf = np.max([\n",
    "    get_max_length_posbf(np.asarray(rp.bf1)),\n",
    "    get_max_length_posbf(np.asarray(rp.bf2)),\n",
    "    # usar treino e testes\n",
    "])"
   ]
  },
  {
   "cell_type": "code",
   "execution_count": null,
   "metadata": {},
   "outputs": [],
   "source": [
    "x_, y_ = fill_all_posbf(ms1,len_max_pos_bf)"
   ]
  },
  {
   "cell_type": "markdown",
   "metadata": {},
   "source": [
    "# Training"
   ]
  },
  {
   "cell_type": "markdown",
   "metadata": {},
   "source": []
  }
 ],
 "metadata": {
  "language_info": {
   "name": "python"
  },
  "orig_nbformat": 4
 },
 "nbformat": 4,
 "nbformat_minor": 2
}
